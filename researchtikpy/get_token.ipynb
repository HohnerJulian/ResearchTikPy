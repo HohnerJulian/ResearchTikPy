{
 "cells": [
  {
   "cell_type": "code",
   "execution_count": 1,
   "id": "74ee5cb2",
   "metadata": {},
   "outputs": [],
   "source": [
    "import requests\n",
    "\n",
    "def get_access_token(client_key, client_secret):\n",
    "    \"\"\"\n",
    "    Requests an access token from the TikTok API using client credentials.\n",
    "\n",
    "    Parameters:\n",
    "    - client_key (str): The client key provided by TikTok.\n",
    "    - client_secret (str): The client secret provided by TikTok.\n",
    "\n",
    "    Returns:\n",
    "    - dict: A dictionary containing the access token, its expiry duration, and the token type.\n",
    "\n",
    "    Raises:\n",
    "    - Exception: If the request to the TikTok API fails or is not successful.\n",
    "    \"\"\"\n",
    "    endpoint_url = \"https://open.tiktokapis.com/v2/oauth/token/\"\n",
    "    headers = {'Content-Type': 'application/x-www-form-urlencoded'}\n",
    "    data = {\n",
    "        'client_key': client_key,\n",
    "        'client_secret': client_secret,\n",
    "        'grant_type': 'client_credentials',\n",
    "    }\n",
    "\n",
    "    response = requests.post(endpoint_url, headers=headers, data=data)\n",
    "\n",
    "    if response.status_code == 200:\n",
    "        response_json = response.json()\n",
    "        return {\n",
    "            \"access_token\": response_json['access_token'],\n",
    "            \"expires_in\": response_json['expires_in'],\n",
    "            \"token_type\": response_json['token_type']\n",
    "        }\n",
    "    else:\n",
    "        raise Exception(f\"Failed to obtain access token: {response.text}\")\n",
    "\n"
   ]
  }
 ],
 "metadata": {
  "kernelspec": {
   "display_name": "Python 3 (ipykernel)",
   "language": "python",
   "name": "python3"
  },
  "language_info": {
   "codemirror_mode": {
    "name": "ipython",
    "version": 3
   },
   "file_extension": ".py",
   "mimetype": "text/x-python",
   "name": "python",
   "nbconvert_exporter": "python",
   "pygments_lexer": "ipython3",
   "version": "3.9.13"
  }
 },
 "nbformat": 4,
 "nbformat_minor": 5
}
