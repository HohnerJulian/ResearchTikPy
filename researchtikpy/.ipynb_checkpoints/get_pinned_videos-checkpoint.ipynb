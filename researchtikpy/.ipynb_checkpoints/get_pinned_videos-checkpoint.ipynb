{
 "cells": [
  {
   "cell_type": "code",
   "execution_count": 5,
   "id": "4939f9f7",
   "metadata": {},
   "outputs": [],
   "source": [
    "import requests\n",
    "import pandas as pd\n",
    "\n",
    "def get_pinned_videos(usernames, access_token, fields=\"id,video_description,create_time,username,like_count,comment_count,share_count,view_count,hashtag_names\", verbose=True):\n",
    "    \"\"\"\n",
    "    Fetches pinned videos for multiple usernames and compiles them into a single DataFrame.\n",
    "    - usernames (list): List of usernames to fetch pinned videos for.\n",
    "    - access_token (str): Access token for TikTok's API.\n",
    "    - fields (str): Comma-separated string of fields to retrieve for each pinned video.\n",
    "    - verbose (bool): If True, print additional logging information.\n",
    "    Returns:\n",
    "    - pd.DataFrame: DataFrame containing all pinned videos from the provided usernames.\n",
    "    \"\"\"\n",
    "    endpoint = \"https://open.tiktokapis.com/v2/research/user/pinned_videos/\"\n",
    "    headers = {\"Authorization\": f\"Bearer {access_token}\", \"Content-Type\": \"application/json\"}\n",
    "    pinned_videos_df = pd.DataFrame()\n",
    "    session = requests.Session()  # Use session for improved performance\n",
    "\n",
    "    for username in usernames:\n",
    "        query_body = {\"username\": username}\n",
    "        response = session.post(f\"{endpoint}?fields={fields}\", headers=headers, json=query_body)\n",
    "        \n",
    "        if response.status_code == 200:\n",
    "            data = response.json().get(\"data\", {})\n",
    "            pinned_videos = data.get(\"pinned_videos_list\", [])\n",
    "            \n",
    "            if pinned_videos:\n",
    "                temp_df = pd.DataFrame(pinned_videos)\n",
    "                temp_df['username'] = username  # Include username for clarity\n",
    "                pinned_videos_df = pd.concat([pinned_videos_df, temp_df], ignore_index=True)\n",
    "                if verbose:\n",
    "                    print(f\"Successfully fetched {len(pinned_videos)} pinned videos for user {username}\")\n",
    "            else:\n",
    "                if verbose:\n",
    "                    print(f\"No pinned videos found for user {username}\")\n",
    "        else:\n",
    "            if verbose:\n",
    "                print(f\"Error fetching pinned videos for user {username}: {response.status_code}\")\n",
    "                try:\n",
    "                    print(response.json())\n",
    "                except ValueError:  # handles the JSONDecodeError for non-JSON responses\n",
    "                    print(\"No valid JSON response available.\")\n",
    "\n",
    "    return pinned_videos_df"
   ]
  }
 ],
 "metadata": {
  "kernelspec": {
   "display_name": "Python 3 (ipykernel)",
   "language": "python",
   "name": "python3"
  },
  "language_info": {
   "codemirror_mode": {
    "name": "ipython",
    "version": 3
   },
   "file_extension": ".py",
   "mimetype": "text/x-python",
   "name": "python",
   "nbconvert_exporter": "python",
   "pygments_lexer": "ipython3",
   "version": "3.9.13"
  }
 },
 "nbformat": 4,
 "nbformat_minor": 5
}
