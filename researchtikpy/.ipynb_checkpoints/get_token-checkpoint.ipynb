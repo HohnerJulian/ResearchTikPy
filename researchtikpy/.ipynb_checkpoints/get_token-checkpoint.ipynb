{
 "cells": [
  {
   "cell_type": "code",
   "execution_count": null,
   "id": "74ee5cb2",
   "metadata": {},
   "outputs": [],
   "source": [
    "import requests\n",
    "\n",
    "def get_access_token(client_key, client_secret):\n",
    "    \"\"\"\n",
    "    Obtain an access token from the TikTok Research API using client credentials.\n",
    "\n",
    "    Parameters:\n",
    "    - client_key (str): The client key obtained from the TikTok developer portal.\n",
    "    - client_secret (str): The client secret obtained from the TikTok developer portal.\n",
    "\n",
    "    Returns:\n",
    "    - dict: A dictionary containing the access token, its expiry duration, and the token type.\n",
    "\n",
    "    Raises:\n",
    "    - Exception: If the request fails or the API returns an error.\n",
    "    \"\"\"\n",
    "    endpoint_url = \"https://open.tiktokapis.com/v2/oauth/token/\"\n",
    "    headers = {'Content-Type': 'application/x-www-form-urlencoded'}\n",
    "    data = {'client_key': client_key, 'client_secret': client_secret, 'grant_type': 'client_credentials'}\n",
    "\n",
    "    response = requests.post(endpoint_url, headers=headers, data=data)\n",
    "\n",
    "    if response.status_code == 200:\n",
    "        response_json = response.json()\n",
    "        return {\n",
    "            'access_token': response_json['access_token'],\n",
    "            'expires_in': response_json['expires_in'],\n",
    "            'token_type': response_json['token_type']\n",
    "        }\n",
    "    else:\n",
    "        error_msg = response.json().get('error', {}).get('message', 'Unknown error')\n",
    "        raise Exception(f\"Failed to obtain access token: {error_msg}\")\n",
    "\n",
    "# Example usage (commented out for safety):\n",
    "# client_key = \"your_client_key_here\"\n",
    "# client_secret = \"your_client_secret_here\"\n",
    "# token_info = get_access_token(client_key, client_secret)\n",
    "# print(token_info)"
   ]
  }
 ],
 "metadata": {
  "kernelspec": {
   "display_name": "Python 3 (ipykernel)",
   "language": "python",
   "name": "python3"
  },
  "language_info": {
   "codemirror_mode": {
    "name": "ipython",
    "version": 3
   },
   "file_extension": ".py",
   "mimetype": "text/x-python",
   "name": "python",
   "nbconvert_exporter": "python",
   "pygments_lexer": "ipython3",
   "version": "3.9.13"
  }
 },
 "nbformat": 4,
 "nbformat_minor": 5
}
