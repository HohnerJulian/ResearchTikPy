{
 "cells": [
  {
   "cell_type": "code",
   "execution_count": null,
   "id": "7151e2d9",
   "metadata": {},
   "outputs": [],
   "source": [
    "import requests\n",
    "import json\n",
    "import pandas as pd\n",
    "\n",
    "\n",
    "\n",
    "def get_users_info(usernames, access_token):\n",
    "    endpoint = \"https://open.tiktokapis.com/v2/research/user/info/\"\n",
    "    fields = \"display_name,bio_description,avatar_url,is_verified,follower_count,following_count,likes_count,video_count\"\n",
    "    headers = {\"Authorization\": f\"Bearer {access_token}\", \"Content-Type\": \"application/json\"}\n",
    "    users_data = []\n",
    "    session = requests.Session()\n",
    "\n",
    "    for username in usernames:\n",
    "        query_body = json.dumps({\"username\": username})\n",
    "        params = {'fields': fields}\n",
    "        response = session.post(endpoint, headers=headers, json=query_body, params=params)\n",
    "\n",
    "        if response.status_code == 200:\n",
    "            user_data = response.json().get(\"data\", {})\n",
    "            users_data.append(user_data)\n",
    "        else:\n",
    "            print(f\"Error for user {username}: {response.status_code}\", response.json())\n",
    "            users_data.append({\"username\": username, \"error\": \"Failed to retrieve data\"})\n",
    "\n",
    "    users_df = pd.DataFrame(users_data)\n",
    "    return users_df"
   ]
  }
 ],
 "metadata": {
  "kernelspec": {
   "display_name": "Python 3 (ipykernel)",
   "language": "python",
   "name": "python3"
  },
  "language_info": {
   "codemirror_mode": {
    "name": "ipython",
    "version": 3
   },
   "file_extension": ".py",
   "mimetype": "text/x-python",
   "name": "python",
   "nbconvert_exporter": "python",
   "pygments_lexer": "ipython3",
   "version": "3.9.13"
  }
 },
 "nbformat": 4,
 "nbformat_minor": 5
}
