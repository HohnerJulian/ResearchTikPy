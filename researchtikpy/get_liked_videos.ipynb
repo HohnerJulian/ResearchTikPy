{
 "cells": [
  {
   "cell_type": "code",
   "execution_count": 1,
   "id": "36f38129",
   "metadata": {},
   "outputs": [],
   "source": [
    "import requests\n",
    "import pandas as pd\n",
    "from time import sleep\n",
    "\n",
    "def get_liked_videos(usernames, access_token, fields, max_count=100):\n",
    "    \"\"\"\n",
    "    Fetches liked videos for multiple usernames and compiles them into a single DataFrame.\n",
    "\n",
    "    Parameters:\n",
    "    - usernames (list): List of usernames to fetch liked videos for.\n",
    "    - access_token (str): Access token for TikTok's API.\n",
    "    - fields (str): Comma-separated string of fields to retrieve for each liked video.\n",
    "    - max_count (int): Maximum number of liked videos to retrieve per request (default 100).\n",
    "\n",
    "    Returns:\n",
    "    - pd.DataFrame: DataFrame containing all liked videos from the provided usernames.\n",
    "    \"\"\"\n",
    "    endpoint = \"https://open.tiktokapis.com/v2/research/user/liked_videos/\"\n",
    "    headers = {\"Authorization\": f\"Bearer {access_token}\", \"Content-Type\": \"application/json\"}\n",
    "    liked_videos_df = pd.DataFrame()\n",
    "    session = requests.Session()  # Use session for improved performance\n",
    "\n",
    "    for username in usernames:\n",
    "        has_more = True\n",
    "        cursor = 0  # Start with initial cursor at 0\n",
    "\n",
    "        while has_more:\n",
    "            query_body = {\"username\": username, \"max_count\": max_count, \"cursor\": cursor}\n",
    "            response = session.post(f\"{endpoint}?fields={fields}\", headers=headers, json=query_body)\n",
    "            \n",
    "            if response.status_code == 200:\n",
    "                data = response.json().get(\"data\", {})\n",
    "                user_liked_videos = data.get(\"user_liked_videos\", [])\n",
    "                \n",
    "                if user_liked_videos:\n",
    "                    current_df = pd.DataFrame(user_liked_videos)\n",
    "                    liked_videos_df = pd.concat([liked_videos_df, current_df], ignore_index=True)\n",
    "                \n",
    "                has_more = data.get(\"has_more\", False)\n",
    "                cursor = data.get(\"cursor\", cursor + max_count)  # Use API provided cursor if available, else increment\n",
    "            elif response.status_code == 429:\n",
    "                print(\"Rate limit exceeded. Pausing before retrying...\")\n",
    "                sleep(60)  # Pause execution before retrying\n",
    "                continue  # Optional: retry the last request\n",
    "            else:\n",
    "                print(f\"Error fetching liked videos for user {username}: {response.status_code}\", response.json())\n",
    "                break  # Stop fetching for current user in case of an error\n",
    "\n",
    "    return liked_videos_df\n"
   ]
  }
 ],
 "metadata": {
  "kernelspec": {
   "display_name": "Python 3 (ipykernel)",
   "language": "python",
   "name": "python3"
  },
  "language_info": {
   "codemirror_mode": {
    "name": "ipython",
    "version": 3
   },
   "file_extension": ".py",
   "mimetype": "text/x-python",
   "name": "python",
   "nbconvert_exporter": "python",
   "pygments_lexer": "ipython3",
   "version": "3.9.13"
  }
 },
 "nbformat": 4,
 "nbformat_minor": 5
}
