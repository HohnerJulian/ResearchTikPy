{
 "cells": [
  {
   "cell_type": "code",
   "execution_count": null,
   "id": "8b4ebb53",
   "metadata": {},
   "outputs": [],
   "source": [
    "from datetime import datetime, timedelta\n",
    "import requests\n",
    "import pandas as pd\n",
    "\n",
    "def get_videos_info(usernames, access_token, fields, start_date, end_date, max_count=100):\n",
    "    endpoint = \"https://open.tiktokapis.com/v2/research/video/query/\"\n",
    "    headers = {\"Authorization\": f\"Bearer {access_token}\", \"Content-Type\": \"application/json\"}\n",
    "    query_fields = fields.split(',')\n",
    "    videos_df = pd.DataFrame(columns=query_fields)\n",
    "    start_date = datetime.strptime(start_date, \"%Y%m%d\")\n",
    "    end_date = datetime.strptime(end_date, \"%Y%m%d\")\n",
    "    delta = timedelta(days=30)\n",
    "    session = requests.Session()  # Using session for improved performance\n",
    "\n",
    "    for username in usernames:\n",
    "        current_start_date = start_date\n",
    "        while current_start_date < end_date:\n",
    "            current_end_date = min(current_start_date + delta, end_date)\n",
    "            query_body = {\n",
    "                \"query\": {\n",
    "                    \"and\": [{\"operation\": \"EQ\", \"field_name\": \"username\", \"field_values\": [username]}]\n",
    "                },\n",
    "                \"start_date\": current_start_date.strftime(\"%Y%m%d\"),\n",
    "                \"end_date\": current_end_date.strftime(\"%Y%m%d\"),\n",
    "                \"max_count\": max_count\n",
    "            }\n",
    "\n",
    "            response = session.post(f\"{endpoint}?fields={','.join(query_fields)}\", headers=headers, json=query_body)\n",
    "            if response.status_code == 200:\n",
    "                data = response.json().get(\"data\", {})\n",
    "                videos = data.get(\"videos\", [])\n",
    "                videos_df = pd.concat([videos_df, pd.DataFrame(videos)], ignore_index=True)\n",
    "            elif response.status_code == 429:\n",
    "                print(\"Rate limit exceeded, sleeping for 60 seconds.\")\n",
    "                time.sleep(60)  # Handling rate limiting\n",
    "                continue  # Consider whether to retry the last request\n",
    "            else:\n",
    "                print(f\"Error fetching videos for user {username}: {response.status_code}\", response.json())\n",
    "            current_start_date += delta + timedelta(days=1)\n",
    "    \n",
    "    return videos_df"
   ]
  }
 ],
 "metadata": {
  "kernelspec": {
   "display_name": "Python 3 (ipykernel)",
   "language": "python",
   "name": "python3"
  },
  "language_info": {
   "codemirror_mode": {
    "name": "ipython",
    "version": 3
   },
   "file_extension": ".py",
   "mimetype": "text/x-python",
   "name": "python",
   "nbconvert_exporter": "python",
   "pygments_lexer": "ipython3",
   "version": "3.9.13"
  }
 },
 "nbformat": 4,
 "nbformat_minor": 5
}
