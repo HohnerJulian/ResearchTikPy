{
 "cells": [
  {
   "cell_type": "code",
   "execution_count": 1,
   "id": "29963b99",
   "metadata": {},
   "outputs": [],
   "source": [
    "def get_users_info(usernames, access_token, fields=\"display_name,bio_description,avatar_url,is_verified,follower_count,following_count,likes_count,video_count\", verbose=True):\n",
    "    \"\"\"\n",
    "    Fetches user information for a list of usernames.\n",
    "\n",
    "    Parameters:\n",
    "    - usernames (list): List of TikTok usernames to fetch info for.\n",
    "    - access_token (str): Access token for TikTok's API.\n",
    "    - fields (str): Comma-separated string of user fields to retrieve. \n",
    "    - verbose (bool): If True, prints detailed logs; if False, suppresses most print statements.\n",
    "\n",
    "    Returns:\n",
    "    - pd.DataFrame: DataFrame containing user information.\n",
    "    \"\"\"\n",
    "    endpoint = \"https://open.tiktokapis.com/v2/research/user/info/\"\n",
    "    headers = {\"Authorization\": f\"Bearer {access_token}\", \"Content-Type\": \"application/json\"}\n",
    "    users_data = []\n",
    "    session = requests.Session()  # Use session for improved performance\n",
    "\n",
    "    for username in usernames:\n",
    "        query_body = {\"username\": username}\n",
    "        params = {'fields': fields}\n",
    "        response = session.post(endpoint, headers=headers, json=query_body, params=params)\n",
    "        \n",
    "        if verbose:\n",
    "            print(f\"Fetching info for user: {username}\")\n",
    "\n",
    "        if response.status_code == 200:\n",
    "            user_data = response.json().get(\"data\", {})\n",
    "            if user_data:  # Check if data is not empty\n",
    "                users_data.append(user_data)\n",
    "            else:\n",
    "                if verbose:\n",
    "                    print(f\"No data found for user: {username}\")\n",
    "        else:\n",
    "            if verbose:\n",
    "                print(f\"Error for user {username}: {response.status_code}\", response.json())\n",
    "            users_data.append({\"username\": username, \"error\": \"Failed to retrieve data\"})\n",
    "\n",
    "    users_df = pd.DataFrame(users_data)\n",
    "    \n",
    "    if verbose:\n",
    "        print(\"User info retrieval complete.\")\n",
    "    \n",
    "    return users_df"
   ]
  }
 ],
 "metadata": {
  "kernelspec": {
   "display_name": "Python 3 (ipykernel)",
   "language": "python",
   "name": "python3"
  },
  "language_info": {
   "codemirror_mode": {
    "name": "ipython",
    "version": 3
   },
   "file_extension": ".py",
   "mimetype": "text/x-python",
   "name": "python",
   "nbconvert_exporter": "python",
   "pygments_lexer": "ipython3",
   "version": "3.9.13"
  }
 },
 "nbformat": 4,
 "nbformat_minor": 5
}
