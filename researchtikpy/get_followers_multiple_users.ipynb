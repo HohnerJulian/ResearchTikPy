{
 "cells": [
  {
   "cell_type": "code",
   "execution_count": 1,
   "id": "f16ff034",
   "metadata": {},
   "outputs": [],
   "source": [
    "import requests\n",
    "import pandas as pd\n",
    "from time import sleep\n",
    "\n",
    "def get_followers_multiple_users(usernames_list, access_token, max_count=100):\n",
    "    \"\"\"\n",
    "    Fetches followers for multiple users and compiles them into a single DataFrame. It is adviced to keep the list of \n",
    "    usernames short to avoid longer runtimes. \n",
    "\n",
    "    Parameters:\n",
    "    - usernames_list (list): List of usernames to fetch followers for.\n",
    "    - access_token (str): Access token for TikTok's API.\n",
    "    - max_count (int): Maximum number of followers to retrieve per request (default 100).\n",
    "\n",
    "    Returns:\n",
    "    - pd.DataFrame: DataFrame containing all followers from the provided usernames.\n",
    "    \"\"\"\n",
    "    all_followers_df = pd.DataFrame()\n",
    "    session = requests.Session()  # Use session for improved performance\n",
    "\n",
    "    for username in usernames_list:\n",
    "        followers_list = []\n",
    "        cursor = 0  # Assuming cursor is an incremental index or ID\n",
    "        has_more = True\n",
    "\n",
    "        while has_more:\n",
    "            endpoint = \"https://open.tiktokapis.com/v2/research/user/followers/\"\n",
    "            headers = {\"Authorization\": f\"Bearer {access_token}\", \"Content-Type\": \"application/json\"}\n",
    "            query_body = {\"username\": username, \"max_count\": max_count, \"cursor\": cursor}\n",
    "\n",
    "            response = session.post(endpoint, headers=headers, json=query_body)\n",
    "            \n",
    "            if response.status_code == 200:\n",
    "                data = response.json().get(\"data\", {})\n",
    "                followers = data.get(\"user_followers\", [])\n",
    "                followers_list.extend(followers)\n",
    "                has_more = data.get(\"has_more\", False)\n",
    "                cursor = data.get(\"cursor\", cursor + max_count)  # Update cursor based on response\n",
    "            elif response.status_code == 429:\n",
    "                print(f\"Rate limit exceeded fetching followers for user {username}. Pausing before retrying...\")\n",
    "                sleep(60)  # Adjust sleep time based on the API's rate limit reset window\n",
    "                continue  # Continue to the next iteration without breaking the loop\n",
    "            else:\n",
    "                print(f\"Error fetching followers for user {username}: {response.status_code}\", response.json())\n",
    "                has_more = False  # Stop the loop for the current user\n",
    "\n",
    "        if followers_list:\n",
    "            followers_df = pd.DataFrame(followers_list)\n",
    "            followers_df['target_account'] = username  # Identify the account these followers belong to\n",
    "            all_followers_df = pd.concat([all_followers_df, followers_df], ignore_index=True)\n",
    "\n",
    "    return all_followers_df"
   ]
  }
 ],
 "metadata": {
  "kernelspec": {
   "display_name": "Python 3 (ipykernel)",
   "language": "python",
   "name": "python3"
  },
  "language_info": {
   "codemirror_mode": {
    "name": "ipython",
    "version": 3
   },
   "file_extension": ".py",
   "mimetype": "text/x-python",
   "name": "python",
   "nbconvert_exporter": "python",
   "pygments_lexer": "ipython3",
   "version": "3.9.13"
  }
 },
 "nbformat": 4,
 "nbformat_minor": 5
}
